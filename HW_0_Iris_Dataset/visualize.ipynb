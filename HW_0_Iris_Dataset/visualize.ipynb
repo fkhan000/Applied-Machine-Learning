{
 "cells": [
  {
   "cell_type": "code",
   "execution_count": null,
   "metadata": {},
   "outputs": [],
   "source": [
    "import os"
   ]
  },
  {
   "cell_type": "code",
   "execution_count": null,
   "metadata": {},
   "outputs": [],
   "source": [
    "#Loading in the Iris Dataset\n",
    "\n",
    "iris_feat = []\n",
    "iris_labels = []\n",
    "\n",
    "with open(os.path.join(\"iris_data\", \"iris.data\")) as f:\n",
    "    for line in f:\n",
    "        row = line.split(\",\")\n",
    "        features = [float(feat) for feat in row[:-1]]\n",
    "        label = row[-1]\n",
    "\n",
    "        iris_feat.append(features)\n",
    "        iris_labels.append(label)"
   ]
  }
 ],
 "metadata": {
  "language_info": {
   "name": "python"
  }
 },
 "nbformat": 4,
 "nbformat_minor": 2
}
